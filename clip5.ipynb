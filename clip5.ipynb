{
 "cells": [
  {
   "cell_type": "markdown",
   "id": "0cf80976-e810-4f93-bd1d-544590aa0ac5",
   "metadata": {},
   "source": [
    "# Clip 5"
   ]
  },
  {
   "cell_type": "markdown",
   "id": "a34c1f55-7b86-45d9-8079-3a2f0e6b6e28",
   "metadata": {},
   "source": [
    "## Initial"
   ]
  },
  {
   "cell_type": "code",
   "execution_count": 1,
   "id": "1be943be-d5b7-490d-a576-c642f29c9e08",
   "metadata": {},
   "outputs": [],
   "source": [
    "import open3d as o3d\n",
    "import numpy as np\n",
    "import json"
   ]
  },
  {
   "cell_type": "code",
   "execution_count": 2,
   "id": "d40b2e85-d953-421e-88ab-5dfdd3b0077a",
   "metadata": {},
   "outputs": [
    {
     "name": "stdout",
     "output_type": "stream",
     "text": [
      "PointCloud with 14640197 points.\n",
      "\n"
     ]
    }
   ],
   "source": [
    "# Initial\n",
    "kota = \"../data/kota_circuit2.ply\"\n",
    "pcd = o3d.io.read_point_cloud(kota)\n",
    "print(pcd)\n",
    "print()"
   ]
  },
  {
   "cell_type": "code",
   "execution_count": 3,
   "id": "4fecf46c-b470-4f6d-918d-97bd046b05a4",
   "metadata": {},
   "outputs": [
    {
     "name": "stdout",
     "output_type": "stream",
     "text": [
      "\u001b[1;33m[Open3D WARNING] GLFW Error: Cocoa: Failed to find service port for display\u001b[0;m\n",
      "\u001b[1;33m[Open3D WARNING] GLFW Error: Cocoa: Failed to find service port for display\u001b[0;m\n"
     ]
    },
    {
     "ename": "KeyboardInterrupt",
     "evalue": "",
     "output_type": "error",
     "traceback": [
      "\u001b[0;31m---------------------------------------------------------------------------\u001b[0m",
      "\u001b[0;31mKeyboardInterrupt\u001b[0m                         Traceback (most recent call last)",
      "Cell \u001b[0;32mIn[3], line 2\u001b[0m\n\u001b[1;32m      1\u001b[0m \u001b[38;5;66;03m# Visualize pcd\u001b[39;00m\n\u001b[0;32m----> 2\u001b[0m \u001b[43mo3d\u001b[49m\u001b[38;5;241;43m.\u001b[39;49m\u001b[43mvisualization\u001b[49m\u001b[38;5;241;43m.\u001b[39;49m\u001b[43mdraw_geometries\u001b[49m\u001b[43m(\u001b[49m\u001b[43m[\u001b[49m\u001b[43mpcd\u001b[49m\u001b[43m]\u001b[49m\u001b[43m)\u001b[49m\n",
      "\u001b[0;31mKeyboardInterrupt\u001b[0m: "
     ]
    }
   ],
   "source": [
    "# Visualize pcd\n",
    "o3d.visualization.draw_geometries([pcd])"
   ]
  },
  {
   "cell_type": "code",
   "execution_count": 3,
   "id": "21171ca9-4f0b-4e18-b181-549dd53b7a59",
   "metadata": {},
   "outputs": [
    {
     "name": "stdout",
     "output_type": "stream",
     "text": [
      "min_bound = [-150, -100, -100]\n",
      "max_bound = [444, 350, 0]\n"
     ]
    }
   ],
   "source": [
    "# Configuration for cropping\n",
    "\n",
    "min_bound = [-150, -100, -100]\n",
    "max_bound = [444, 350, 0]\n",
    "\n",
    "print(f\"min_bound = {min_bound}\")\n",
    "print(f\"max_bound = {max_bound}\")"
   ]
  },
  {
   "cell_type": "code",
   "execution_count": 4,
   "id": "4382414c-32d2-45a4-b5ae-0f2e448ce732",
   "metadata": {},
   "outputs": [
    {
     "name": "stdout",
     "output_type": "stream",
     "text": [
      "PointCloud with 10275773 points.\n"
     ]
    }
   ],
   "source": [
    "# Define the axis-aligned bounding box with the loaded bounds\n",
    "aabb = o3d.geometry.AxisAlignedBoundingBox(min_bound=min_bound, max_bound=max_bound)\n",
    "\n",
    "# Crop the point cloud\n",
    "cropped_pcd = pcd.crop(aabb)\n",
    "\n",
    "print(cropped_pcd)"
   ]
  },
  {
   "cell_type": "markdown",
   "id": "f6020922-c3b4-4119-a720-1b850c0d7d8c",
   "metadata": {},
   "source": [
    "## Get vertex normal"
   ]
  },
  {
   "cell_type": "code",
   "execution_count": 5,
   "id": "4cb7d2a0-c00c-400f-a961-0ee04c338a5d",
   "metadata": {},
   "outputs": [
    {
     "name": "stdout",
     "output_type": "stream",
     "text": [
      "Finish estimate normal\n"
     ]
    }
   ],
   "source": [
    "# Get vertex normal\n",
    "cropped_pcd.estimate_normals(\n",
    "    search_param=o3d.geometry.KDTreeSearchParamHybrid(radius=0.1, max_nn=30))\n",
    "print(\"Finish estimate normal\")"
   ]
  },
  {
   "cell_type": "code",
   "execution_count": 7,
   "id": "aa9d59d7-b78a-49b1-ae6f-2267d61aa7c0",
   "metadata": {},
   "outputs": [
    {
     "data": {
      "text/plain": [
       "True"
      ]
     },
     "execution_count": 7,
     "metadata": {},
     "output_type": "execute_result"
    }
   ],
   "source": [
    "o3d.io.write_point_cloud(\"cropped_normal.ply\", cropped_pcd, write_ascii=True) # save new ascii ply"
   ]
  },
  {
   "cell_type": "code",
   "execution_count": 12,
   "id": "502558ff-43d4-466f-bfb2-128cb12a03ad",
   "metadata": {},
   "outputs": [
    {
     "name": "stdout",
     "output_type": "stream",
     "text": [
      "\u001b[1;33m[Open3D WARNING] GLFW Error: Cocoa: Failed to find service port for display\u001b[0;m\n",
      "\u001b[1;33m[Open3D WARNING] GLFW Error: Cocoa: Failed to find service port for display\u001b[0;m\n"
     ]
    },
    {
     "ename": "KeyboardInterrupt",
     "evalue": "",
     "output_type": "error",
     "traceback": [
      "\u001b[0;31m---------------------------------------------------------------------------\u001b[0m",
      "\u001b[0;31mKeyboardInterrupt\u001b[0m                         Traceback (most recent call last)",
      "Cell \u001b[0;32mIn[12], line 2\u001b[0m\n\u001b[1;32m      1\u001b[0m \u001b[38;5;66;03m# Visualize cropped\u001b[39;00m\n\u001b[0;32m----> 2\u001b[0m \u001b[43mo3d\u001b[49m\u001b[38;5;241;43m.\u001b[39;49m\u001b[43mvisualization\u001b[49m\u001b[38;5;241;43m.\u001b[39;49m\u001b[43mdraw_geometries\u001b[49m\u001b[43m(\u001b[49m\u001b[43m[\u001b[49m\u001b[43mcropped_pcd\u001b[49m\u001b[43m]\u001b[49m\u001b[43m)\u001b[49m\n",
      "\u001b[0;31mKeyboardInterrupt\u001b[0m: "
     ]
    }
   ],
   "source": [
    "# Visualize cropped\n",
    "o3d.visualization.draw_geometries([cropped_pcd])"
   ]
  },
  {
   "cell_type": "markdown",
   "id": "57d02df5-903c-40f2-867d-d640c2121068",
   "metadata": {},
   "source": [
    "## Normal Filter"
   ]
  },
  {
   "cell_type": "code",
   "execution_count": 6,
   "id": "b2b1b0e7-2cba-4a68-9b01-66deeae45b0d",
   "metadata": {},
   "outputs": [
    {
     "name": "stdout",
     "output_type": "stream",
     "text": [
      "X range: -149.99990844726562 to 260.0782165527344\n",
      "Y range: -99.99994659423828 to 349.9996337890625\n",
      "Z range: -99.99986267089844 to -16.549089431762695\n"
     ]
    }
   ],
   "source": [
    "# Prepare data for filter\n",
    "\n",
    "# Convert the point cloud to a NumPy array\n",
    "points = np.asarray(cropped_pcd.points)\n",
    "colors = np.asarray(cropped_pcd.colors)\n",
    "normals = np.asarray(cropped_pcd.normals)\n",
    "\n",
    "# Print the min and max of each coordinate (test)\n",
    "print(f\"X range: {points[:, 0].min()} to {points[:, 0].max()}\")\n",
    "print(f\"Y range: {points[:, 1].min()} to {points[:, 1].max()}\")\n",
    "print(f\"Z range: {points[:, 2].min()} to {points[:, 2].max()}\")"
   ]
  },
  {
   "cell_type": "code",
   "execution_count": 7,
   "id": "416bc890-b990-4c6e-bb64-cf3c32645684",
   "metadata": {},
   "outputs": [],
   "source": [
    "# Define a function to calculate the angle with the vertical\n",
    "def angle_with_vertical(normal):\n",
    "    # Assuming the vertical is along the z-axis\n",
    "    vertical = np.array([0, 0, 1])\n",
    "    cosine_angle = np.dot(normal, vertical) / (np.linalg.norm(normal) * np.linalg.norm(vertical))\n",
    "    return np.arccos(cosine_angle)  # Return the angle in radians"
   ]
  },
  {
   "cell_type": "code",
   "execution_count": 10,
   "id": "b8df75bf-0d54-46f9-bfb6-7fa67e2a8643",
   "metadata": {},
   "outputs": [
    {
     "name": "stdout",
     "output_type": "stream",
     "text": [
      "Finish Calculating\n"
     ]
    }
   ],
   "source": [
    "# Filter out points based on the angle with the vertical\n",
    "angle_threshold = np.pi / 6  # 30 degrees, adjust this threshold as needed\n",
    "filtered_points = []\n",
    "filtered_normals = []\n",
    "filtered_colors = []\n",
    "\n",
    "for point, normal, color in zip(cropped_pcd.points, cropped_pcd.normals, cropped_pcd.colors):\n",
    "    if angle_with_vertical(normal) < angle_threshold:\n",
    "        filtered_points.append(point)\n",
    "        filtered_normals.append(normal)\n",
    "        filtered_colors.append(color)\n",
    "\n",
    "# Create a new point cloud with the filtered points\n",
    "road_pcd = o3d.geometry.PointCloud()\n",
    "road_pcd.points = o3d.utility.Vector3dVector(filtered_points)\n",
    "road_pcd.normals = o3d.utility.Vector3dVector(filtered_normals)\n",
    "road_pcd.colors = o3d.utility.Vector3dVector(filtered_colors)\n",
    "\n",
    "print(\"Finish Calculating\")"
   ]
  },
  {
   "cell_type": "code",
   "execution_count": 11,
   "id": "c0f4bd20-61d1-4673-b17c-6f54f29fb1ec",
   "metadata": {},
   "outputs": [
    {
     "data": {
      "text/plain": [
       "True"
      ]
     },
     "execution_count": 11,
     "metadata": {},
     "output_type": "execute_result"
    }
   ],
   "source": [
    "# Save the filtered point cloud\n",
    "o3d.io.write_point_cloud(\"filtered_road.ply\", road_pcd, write_ascii=True)"
   ]
  },
  {
   "cell_type": "code",
   "execution_count": 12,
   "id": "b8ead361-6cec-4d3e-9626-4ba74d0ae78c",
   "metadata": {},
   "outputs": [
    {
     "name": "stdout",
     "output_type": "stream",
     "text": [
      "\u001b[1;33m[Open3D WARNING] GLFW Error: Cocoa: Failed to find service port for display\u001b[0;m\n",
      "\u001b[1;33m[Open3D WARNING] GLFW Error: Cocoa: Failed to find service port for display\u001b[0;m\n"
     ]
    },
    {
     "ename": "KeyboardInterrupt",
     "evalue": "",
     "output_type": "error",
     "traceback": [
      "\u001b[0;31m---------------------------------------------------------------------------\u001b[0m",
      "\u001b[0;31mKeyboardInterrupt\u001b[0m                         Traceback (most recent call last)",
      "Cell \u001b[0;32mIn[12], line 2\u001b[0m\n\u001b[1;32m      1\u001b[0m \u001b[38;5;66;03m# Visualize result\u001b[39;00m\n\u001b[0;32m----> 2\u001b[0m \u001b[43mo3d\u001b[49m\u001b[38;5;241;43m.\u001b[39;49m\u001b[43mvisualization\u001b[49m\u001b[38;5;241;43m.\u001b[39;49m\u001b[43mdraw_geometries\u001b[49m\u001b[43m(\u001b[49m\u001b[43m[\u001b[49m\u001b[43mroad_pcd\u001b[49m\u001b[43m]\u001b[49m\u001b[43m)\u001b[49m\n",
      "\u001b[0;31mKeyboardInterrupt\u001b[0m: "
     ]
    }
   ],
   "source": [
    "# Visualize result\n",
    "o3d.visualization.draw_geometries([road_pcd])"
   ]
  }
 ],
 "metadata": {
  "kernelspec": {
   "display_name": "Python (venv)",
   "language": "python",
   "name": "venv"
  },
  "language_info": {
   "codemirror_mode": {
    "name": "ipython",
    "version": 3
   },
   "file_extension": ".py",
   "mimetype": "text/x-python",
   "name": "python",
   "nbconvert_exporter": "python",
   "pygments_lexer": "ipython3",
   "version": "3.11.7"
  }
 },
 "nbformat": 4,
 "nbformat_minor": 5
}
